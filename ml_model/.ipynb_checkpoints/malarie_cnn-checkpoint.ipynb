{
 "cells": [
  {
   "cell_type": "code",
   "execution_count": 1,
   "id": "b6cc2943-c123-4a87-ad06-044ca20e3aba",
   "metadata": {},
   "outputs": [
    {
     "name": "stdout",
     "output_type": "stream",
     "text": [
      "Images infectées : 13780\n",
      "Images non infectées : 13780\n"
     ]
    },
    {
     "data": {
      "image/png": "[encoded data removed]",
      "text/plain": [
       "<Figure size 640x480 with 1 Axes>"
      ]
     },
     "metadata": {},
     "output_type": "display_data"
    }
   ],
   "source": [
    "import os\n",
    "import random\n",
    "import matplotlib.pyplot as plt\n",
    "import seaborn as sns\n",
    "from PIL import Image\n",
    "\n",
    "# Chemins\n",
    "from  pathlib import Path \n",
    "path = Path(r\"C:\\Users\\congo\\Desktop\\cell_images\")\n",
    "data_dir = path\n",
    "parasitized_dir = os.path.join(data_dir, \"Parasitized\")\n",
    "uninfected_dir = os.path.join(data_dir, \"Uninfected\")\n",
    "\n",
    "# Nombre d'images par classe\n",
    "num_parasitized = len(os.listdir(parasitized_dir))\n",
    "num_uninfected = len(os.listdir(uninfected_dir))\n",
    "\n",
    "print(f\"Images infectées : {num_parasitized}\")\n",
    "print(f\"Images non infectées : {num_uninfected}\")\n",
    "\n",
    "# Distribution des classes\n",
    "sns.barplot(x=[\"Parasitized\", \"Uninfected\"], y=[num_parasitized, num_uninfected])\n",
    "plt.title(\"Distribution des classes\")\n",
    "plt.ylabel(\"Nombre d'images\")\n",
    "plt.show()\n"
   ]
  },
  {
   "cell_type": "code",
   "execution_count": 2,
   "id": "4afaeb41-f143-466e-8b2b-8483f57d19bd",
   "metadata": {},
   "outputs": [
    {
     "name": "stdout",
     "output_type": "stream",
     "text": [
      "✅ Séparation terminée avec succès.\n"
     ]
    }
   ],
   "source": [
    "import os\n",
    "import shutil\n",
    "import random\n",
    "\n",
    "# Dossiers source\n",
    "source_dir = r\"C:\\Users\\congo\\Desktop\\cell_images\"  # à adapter selon ton chemin réel\n",
    "\n",
    "# Dossiers destination\n",
    "base_output_dir = r\"C:\\Users\\congo\\Desktop\\cell_images_split\"\n",
    "train_dir = os.path.join(base_output_dir, \"train\")\n",
    "val_dir = os.path.join(base_output_dir, \"validation\")\n",
    "\n",
    "# Paramètre de split\n",
    "split_ratio = 0.8  # 80% train, 20% validation\n",
    "\n",
    "# Création des dossiers\n",
    "for category in ['Parasitized', 'Uninfected']:\n",
    "    os.makedirs(os.path.join(train_dir, category), exist_ok=True)\n",
    "    os.makedirs(os.path.join(val_dir, category), exist_ok=True)\n",
    "\n",
    "# Séparation des fichiers\n",
    "for category in ['Parasitized', 'Uninfected']:\n",
    "    source_path = os.path.join(source_dir, category)\n",
    "    images = os.listdir(source_path)\n",
    "    random.shuffle(images)\n",
    "\n",
    "    split_index = int(len(images) * split_ratio)\n",
    "    train_images = images[:split_index]\n",
    "    val_images = images[split_index:]\n",
    "\n",
    "    for img in train_images:\n",
    "        src = os.path.join(source_path, img)\n",
    "        dst = os.path.join(train_dir, category, img)\n",
    "        shutil.copy2(src, dst)\n",
    "\n",
    "    for img in val_images:\n",
    "        src = os.path.join(source_path, img)\n",
    "        dst = os.path.join(val_dir, category, img)\n",
    "        shutil.copy2(src, dst)\n",
    "\n",
    "print(\"✅ Séparation terminée avec succès.\")\n"
   ]
  },
  {
   "cell_type": "code",
   "execution_count": null,
   "id": "e849edfc-7005-4df3-b037-fc4531efd3fd",
   "metadata": {},
   "outputs": [],
   "source": [
    "from tensorflow.keras.preprocessing.image import ImageDataGenerator\n",
    "\n",
    "# Générateur avec augmentation des données\n",
    "datagen = ImageDataGenerator(\n",
    "    rescale=1./255,\n",
    "    validation_split=0.2,  # 20% pour la validation\n",
    "    rotation_range=20,\n",
    "    zoom_range=0.2,\n",
    "    shear_range=0.2,\n",
    "    horizontal_flip=True\n",
    ")\n",
    "\n",
    "# Générateur pour l'entraînement\n",
    "train_generator = datagen.flow_from_directory(\n",
    "    'cell_images',\n",
    "    target_size=(150, 150),\n",
    "    batch_size=32,\n",
    "    class_mode='binary',\n",
    "    subset='training'\n",
    ")\n",
    "\n",
    "# Générateur pour la validation\n",
    "val_generator = datagen.flow_from_directory(\n",
    "    'cell_images',\n",
    "    target_size=(150, 150),\n",
    "    batch_size=32,\n",
    "    class_mode='binary',\n",
    "    subset='validation'\n",
    ")\n"
   ]
  }
 ],
 "metadata": {
  "kernelspec": {
   "display_name": "Python 3 (ipykernel)",
   "language": "python",
   "name": "python3"
  },
  "language_info": {
   "codemirror_mode": {
    "name": "ipython",
    "version": 3
   },
   "file_extension": ".py",
   "mimetype": "text/x-python",
   "name": "python",
   "nbconvert_exporter": "python",
   "pygments_lexer": "ipython3",
   "version": "3.9.20"
  }
 },
 "nbformat": 4,
 "nbformat_minor": 5
}
